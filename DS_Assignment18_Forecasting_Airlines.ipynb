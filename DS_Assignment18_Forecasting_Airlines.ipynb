{
 "cells": [
  {
   "cell_type": "code",
   "execution_count": 1,
   "id": "682e4423",
   "metadata": {},
   "outputs": [],
   "source": [
    "import pandas as pd\n",
    "import numpy as np\n",
    "import matplotlib.pyplot as plt\n",
    "import seaborn as sns\n",
    "import warnings\n",
    "warnings.filterwarnings(\"ignore\")"
   ]
  },
  {
   "cell_type": "code",
   "execution_count": 2,
   "id": "d567b738",
   "metadata": {},
   "outputs": [
    {
     "data": {
      "text/html": [
       "<div>\n",
       "<style scoped>\n",
       "    .dataframe tbody tr th:only-of-type {\n",
       "        vertical-align: middle;\n",
       "    }\n",
       "\n",
       "    .dataframe tbody tr th {\n",
       "        vertical-align: top;\n",
       "    }\n",
       "\n",
       "    .dataframe thead th {\n",
       "        text-align: right;\n",
       "    }\n",
       "</style>\n",
       "<table border=\"1\" class=\"dataframe\">\n",
       "  <thead>\n",
       "    <tr style=\"text-align: right;\">\n",
       "      <th></th>\n",
       "      <th>Month</th>\n",
       "      <th>Passengers</th>\n",
       "    </tr>\n",
       "  </thead>\n",
       "  <tbody>\n",
       "    <tr>\n",
       "      <th>0</th>\n",
       "      <td>1995-01-01</td>\n",
       "      <td>112</td>\n",
       "    </tr>\n",
       "    <tr>\n",
       "      <th>1</th>\n",
       "      <td>1995-02-01</td>\n",
       "      <td>118</td>\n",
       "    </tr>\n",
       "    <tr>\n",
       "      <th>2</th>\n",
       "      <td>1995-03-01</td>\n",
       "      <td>132</td>\n",
       "    </tr>\n",
       "    <tr>\n",
       "      <th>3</th>\n",
       "      <td>1995-04-01</td>\n",
       "      <td>129</td>\n",
       "    </tr>\n",
       "    <tr>\n",
       "      <th>4</th>\n",
       "      <td>1995-05-01</td>\n",
       "      <td>121</td>\n",
       "    </tr>\n",
       "    <tr>\n",
       "      <th>...</th>\n",
       "      <td>...</td>\n",
       "      <td>...</td>\n",
       "    </tr>\n",
       "    <tr>\n",
       "      <th>91</th>\n",
       "      <td>2002-08-01</td>\n",
       "      <td>405</td>\n",
       "    </tr>\n",
       "    <tr>\n",
       "      <th>92</th>\n",
       "      <td>2002-09-01</td>\n",
       "      <td>355</td>\n",
       "    </tr>\n",
       "    <tr>\n",
       "      <th>93</th>\n",
       "      <td>2002-10-01</td>\n",
       "      <td>306</td>\n",
       "    </tr>\n",
       "    <tr>\n",
       "      <th>94</th>\n",
       "      <td>2002-11-01</td>\n",
       "      <td>271</td>\n",
       "    </tr>\n",
       "    <tr>\n",
       "      <th>95</th>\n",
       "      <td>2002-12-01</td>\n",
       "      <td>306</td>\n",
       "    </tr>\n",
       "  </tbody>\n",
       "</table>\n",
       "<p>96 rows × 2 columns</p>\n",
       "</div>"
      ],
      "text/plain": [
       "        Month  Passengers\n",
       "0  1995-01-01         112\n",
       "1  1995-02-01         118\n",
       "2  1995-03-01         132\n",
       "3  1995-04-01         129\n",
       "4  1995-05-01         121\n",
       "..        ...         ...\n",
       "91 2002-08-01         405\n",
       "92 2002-09-01         355\n",
       "93 2002-10-01         306\n",
       "94 2002-11-01         271\n",
       "95 2002-12-01         306\n",
       "\n",
       "[96 rows x 2 columns]"
      ]
     },
     "execution_count": 2,
     "metadata": {},
     "output_type": "execute_result"
    }
   ],
   "source": [
    "data = pd.read_excel('Airlines+Data.xlsx')\n",
    "data"
   ]
  },
  {
   "cell_type": "code",
   "execution_count": 3,
   "id": "f2477f51",
   "metadata": {},
   "outputs": [
    {
     "data": {
      "text/plain": [
       "(96, 2)"
      ]
     },
     "execution_count": 3,
     "metadata": {},
     "output_type": "execute_result"
    }
   ],
   "source": [
    "# Visualization and Data Preprocessing\n",
    "\n",
    "data.shape"
   ]
  },
  {
   "cell_type": "code",
   "execution_count": 4,
   "id": "71fa4af8",
   "metadata": {},
   "outputs": [
    {
     "data": {
      "text/html": [
       "<div>\n",
       "<style scoped>\n",
       "    .dataframe tbody tr th:only-of-type {\n",
       "        vertical-align: middle;\n",
       "    }\n",
       "\n",
       "    .dataframe tbody tr th {\n",
       "        vertical-align: top;\n",
       "    }\n",
       "\n",
       "    .dataframe thead th {\n",
       "        text-align: right;\n",
       "    }\n",
       "</style>\n",
       "<table border=\"1\" class=\"dataframe\">\n",
       "  <thead>\n",
       "    <tr style=\"text-align: right;\">\n",
       "      <th></th>\n",
       "      <th>Month</th>\n",
       "      <th>Passengers</th>\n",
       "    </tr>\n",
       "  </thead>\n",
       "  <tbody>\n",
       "    <tr>\n",
       "      <th>0</th>\n",
       "      <td>1995-01-01</td>\n",
       "      <td>112</td>\n",
       "    </tr>\n",
       "    <tr>\n",
       "      <th>1</th>\n",
       "      <td>1995-02-01</td>\n",
       "      <td>118</td>\n",
       "    </tr>\n",
       "    <tr>\n",
       "      <th>2</th>\n",
       "      <td>1995-03-01</td>\n",
       "      <td>132</td>\n",
       "    </tr>\n",
       "    <tr>\n",
       "      <th>3</th>\n",
       "      <td>1995-04-01</td>\n",
       "      <td>129</td>\n",
       "    </tr>\n",
       "    <tr>\n",
       "      <th>4</th>\n",
       "      <td>1995-05-01</td>\n",
       "      <td>121</td>\n",
       "    </tr>\n",
       "    <tr>\n",
       "      <th>5</th>\n",
       "      <td>1995-06-01</td>\n",
       "      <td>135</td>\n",
       "    </tr>\n",
       "    <tr>\n",
       "      <th>6</th>\n",
       "      <td>1995-07-01</td>\n",
       "      <td>148</td>\n",
       "    </tr>\n",
       "    <tr>\n",
       "      <th>7</th>\n",
       "      <td>1995-08-01</td>\n",
       "      <td>148</td>\n",
       "    </tr>\n",
       "    <tr>\n",
       "      <th>8</th>\n",
       "      <td>1995-09-01</td>\n",
       "      <td>136</td>\n",
       "    </tr>\n",
       "    <tr>\n",
       "      <th>9</th>\n",
       "      <td>1995-10-01</td>\n",
       "      <td>119</td>\n",
       "    </tr>\n",
       "  </tbody>\n",
       "</table>\n",
       "</div>"
      ],
      "text/plain": [
       "       Month  Passengers\n",
       "0 1995-01-01         112\n",
       "1 1995-02-01         118\n",
       "2 1995-03-01         132\n",
       "3 1995-04-01         129\n",
       "4 1995-05-01         121\n",
       "5 1995-06-01         135\n",
       "6 1995-07-01         148\n",
       "7 1995-08-01         148\n",
       "8 1995-09-01         136\n",
       "9 1995-10-01         119"
      ]
     },
     "execution_count": 4,
     "metadata": {},
     "output_type": "execute_result"
    }
   ],
   "source": [
    "data.head(10)"
   ]
  },
  {
   "cell_type": "code",
   "execution_count": 5,
   "id": "98035b25",
   "metadata": {},
   "outputs": [
    {
     "data": {
      "text/plain": [
       "Month         datetime64[ns]\n",
       "Passengers             int64\n",
       "dtype: object"
      ]
     },
     "execution_count": 5,
     "metadata": {},
     "output_type": "execute_result"
    }
   ],
   "source": [
    "data.dtypes"
   ]
  },
  {
   "cell_type": "code",
   "execution_count": 6,
   "id": "6433a98e",
   "metadata": {},
   "outputs": [
    {
     "data": {
      "text/plain": [
       "Month         0\n",
       "Passengers    0\n",
       "dtype: int64"
      ]
     },
     "execution_count": 6,
     "metadata": {},
     "output_type": "execute_result"
    }
   ],
   "source": [
    "data.isna().sum()"
   ]
  },
  {
   "cell_type": "code",
   "execution_count": 7,
   "id": "5bdff0f3",
   "metadata": {},
   "outputs": [
    {
     "data": {
      "text/html": [
       "<div>\n",
       "<style scoped>\n",
       "    .dataframe tbody tr th:only-of-type {\n",
       "        vertical-align: middle;\n",
       "    }\n",
       "\n",
       "    .dataframe tbody tr th {\n",
       "        vertical-align: top;\n",
       "    }\n",
       "\n",
       "    .dataframe thead th {\n",
       "        text-align: right;\n",
       "    }\n",
       "</style>\n",
       "<table border=\"1\" class=\"dataframe\">\n",
       "  <thead>\n",
       "    <tr style=\"text-align: right;\">\n",
       "      <th></th>\n",
       "      <th>Passengers</th>\n",
       "    </tr>\n",
       "    <tr>\n",
       "      <th>Month</th>\n",
       "      <th></th>\n",
       "    </tr>\n",
       "  </thead>\n",
       "  <tbody>\n",
       "    <tr>\n",
       "      <th>1995-01-01</th>\n",
       "      <td>112</td>\n",
       "    </tr>\n",
       "    <tr>\n",
       "      <th>1995-02-01</th>\n",
       "      <td>118</td>\n",
       "    </tr>\n",
       "    <tr>\n",
       "      <th>1995-03-01</th>\n",
       "      <td>132</td>\n",
       "    </tr>\n",
       "    <tr>\n",
       "      <th>1995-04-01</th>\n",
       "      <td>129</td>\n",
       "    </tr>\n",
       "    <tr>\n",
       "      <th>1995-05-01</th>\n",
       "      <td>121</td>\n",
       "    </tr>\n",
       "  </tbody>\n",
       "</table>\n",
       "</div>"
      ],
      "text/plain": [
       "            Passengers\n",
       "Month                 \n",
       "1995-01-01         112\n",
       "1995-02-01         118\n",
       "1995-03-01         132\n",
       "1995-04-01         129\n",
       "1995-05-01         121"
      ]
     },
     "execution_count": 7,
     "metadata": {},
     "output_type": "execute_result"
    }
   ],
   "source": [
    "data.set_index('Month', inplace = True)\n",
    "data.head()"
   ]
  },
  {
   "cell_type": "code",
   "execution_count": 10,
   "id": "7aae5bf9",
   "metadata": {},
   "outputs": [
    {
     "data": {
      "text/plain": [
       "[<matplotlib.lines.Line2D at 0x2217c4aa0d0>]"
      ]
     },
     "execution_count": 10,
     "metadata": {},
     "output_type": "execute_result"
    },
    {
     "data": {
      "image/png": "[encoded data removed]",
      "text/plain": [
       "<Figure size 576x360 with 2 Axes>"
      ]
     },
     "metadata": {
      "needs_background": "light"
     },
     "output_type": "display_data"
    }
   ],
   "source": [
    "# Lineplot for Passengers\n",
    "\n",
    "plt.figure(figsize = (8, 5))\n",
    "plt.xlabel(\"Date\")\n",
    "plt.ylabel(\"Number of air passengers\")\n",
    "ax = plt.axes()\n",
    "ax.set_facecolor(\"black\")\n",
    "plt.plot(data['Passengers'], color = 'orange', linewidth = 3)"
   ]
  },
  {
   "cell_type": "code",
   "execution_count": 11,
   "id": "4ff5dce1",
   "metadata": {},
   "outputs": [
    {
     "data": {
      "text/plain": [
       "<AxesSubplot:>"
      ]
     },
     "execution_count": 11,
     "metadata": {},
     "output_type": "execute_result"
    },
    {
     "data": {
      "image/png": "[encoded data removed]",
      "text/plain": [
       "<Figure size 576x360 with 1 Axes>"
      ]
     },
     "metadata": {
      "needs_background": "light"
     },
     "output_type": "display_data"
    }
   ],
   "source": [
    "# Histogram\n",
    "\n",
    "ax = plt.axes()\n",
    "ax.set_facecolor(\"black\")\n",
    "data['Passengers'].hist(figsize = (8, 5), color = 'orange')"
   ]
  },
  {
   "cell_type": "code",
   "execution_count": 13,
   "id": "0aad9b2b",
   "metadata": {},
   "outputs": [
    {
     "data": {
      "text/plain": [
       "<AxesSubplot:ylabel='Density'>"
      ]
     },
     "execution_count": 13,
     "metadata": {},
     "output_type": "execute_result"
    },
    {
     "data": {
      "image/png": "[encoded data removed]",
      "text/plain": [
       "<Figure size 576x360 with 1 Axes>"
      ]
     },
     "metadata": {
      "needs_background": "light"
     },
     "output_type": "display_data"
    }
   ],
   "source": [
    "# Density Plot\n",
    "\n",
    "ax = plt.axes()\n",
    "ax.set_facecolor(\"black\")\n",
    "data['Passengers'].plot(kind = 'kde', figsize = (8, 5), color = 'orange', linewidth = 3)"
   ]
  },
  {
   "cell_type": "code",
   "execution_count": 14,
   "id": "aa1c9839",
   "metadata": {},
   "outputs": [
    {
     "data": {
      "image/png": "[encoded data removed]",
      "text/plain": [
       "<Figure size 432x288 with 2 Axes>"
      ]
     },
     "metadata": {
      "needs_background": "light"
     },
     "output_type": "display_data"
    }
   ],
   "source": [
    "# Lagplot\n",
    "\n",
    "from pandas.plotting import lag_plot\n",
    "\n",
    "lag_plot(data['Passengers'])\n",
    "ax = plt.axes()\n",
    "ax.set_facecolor(\"black\")\n",
    "plt.show()"
   ]
  },
  {
   "cell_type": "code",
   "execution_count": 15,
   "id": "53ac50f9",
   "metadata": {},
   "outputs": [
    {
     "data": {
      "image/png": "[encoded data removed]",
      "text/plain": [
       "<Figure size 432x288 with 2 Axes>"
      ]
     },
     "metadata": {
      "needs_background": "light"
     },
     "output_type": "display_data"
    },
    {
     "data": {
      "image/png": "[encoded data removed]",
      "text/plain": [
       "<Figure size 432x288 with 2 Axes>"
      ]
     },
     "metadata": {
      "needs_background": "light"
     },
     "output_type": "display_data"
    }
   ],
   "source": [
    "import statsmodels.graphics.tsaplots as tsa_plots\n",
    "\n",
    "tsa_plots.plot_acf(data.Passengers, lags = 12)\n",
    "ax = plt.axes()\n",
    "ax.set_facecolor(\"black\")\n",
    "tsa_plots.plot_pacf(data.Passengers, lags = 12)\n",
    "ax = plt.axes()\n",
    "ax.set_facecolor(\"black\")\n",
    "plt.show()"
   ]
  },
  {
   "cell_type": "code",
   "execution_count": 16,
   "id": "aad0cea0",
   "metadata": {},
   "outputs": [],
   "source": [
    "# Data Driven Forecasting Methods\n",
    "\n",
    "from statsmodels.tsa.holtwinters import SimpleExpSmoothing # SES\n",
    "from statsmodels.tsa.holtwinters import Holt                               # Holts Exponential Smoothing\n",
    "from statsmodels.tsa.holtwinters import ExponentialSmoothing"
   ]
  },
  {
   "cell_type": "code",
   "execution_count": 17,
   "id": "c9f359cb",
   "metadata": {},
   "outputs": [],
   "source": [
    "# Splitting data into Train and Test (77/33)\n",
    "\n",
    "Train = data.head(84)\n",
    "Test = data.tail(12)"
   ]
  },
  {
   "cell_type": "code",
   "execution_count": 18,
   "id": "9448d818",
   "metadata": {},
   "outputs": [
    {
     "data": {
      "text/plain": [
       "<matplotlib.legend.Legend at 0x2217dcf0790>"
      ]
     },
     "execution_count": 18,
     "metadata": {},
     "output_type": "execute_result"
    },
    {
     "data": {
      "image/png": "[encoded data removed]",
      "text/plain": [
       "<Figure size 864x288 with 1 Axes>"
      ]
     },
     "metadata": {
      "needs_background": "light"
     },
     "output_type": "display_data"
    }
   ],
   "source": [
    "# Moving Average Method\n",
    "\n",
    "plt.figure(figsize = (12, 4))\n",
    "data.Passengers.plot(label = \"org\")\n",
    "for i in range(2, 8, 2):\n",
    "    data[\"Passengers\"].rolling(i).mean().plot(label = str(i))\n",
    "plt.legend(loc = 'best')"
   ]
  },
  {
   "cell_type": "code",
   "execution_count": 19,
   "id": "f2c51ea9",
   "metadata": {},
   "outputs": [
    {
     "data": {
      "image/png": "[encoded data removed]",
      "text/plain": [
       "<Figure size 432x288 with 4 Axes>"
      ]
     },
     "metadata": {
      "needs_background": "light"
     },
     "output_type": "display_data"
    }
   ],
   "source": [
    "# Time series decomposition plot\n",
    "\n",
    "from statsmodels.tsa.seasonal import seasonal_decompose\n",
    "\n",
    "decompose_ts_add = seasonal_decompose(data.Passengers, period = 12)\n",
    "decompose_ts_add.plot()\n",
    "plt.show()"
   ]
  },
  {
   "cell_type": "code",
   "execution_count": 23,
   "id": "83848782",
   "metadata": {},
   "outputs": [],
   "source": [
    "# Evaluation Metric RMSE\n",
    "import warnings\n",
    "warnings.filterwarnings(\"ignore\")\n",
    "\n",
    "def RMSE(org, pred):\n",
    "    rmse = np.sqrt(np.mean((np.array(org) - np.array(pred))**2))\n",
    "    return rmse"
   ]
  },
  {
   "cell_type": "code",
   "execution_count": 24,
   "id": "6930cc82",
   "metadata": {},
   "outputs": [
    {
     "data": {
      "text/plain": [
       "68.00674031350329"
      ]
     },
     "execution_count": 24,
     "metadata": {},
     "output_type": "execute_result"
    }
   ],
   "source": [
    "# Simple Exponential Method\n",
    "\n",
    "ses_model = SimpleExpSmoothing(Train[\"Passengers\"]).fit()\n",
    "pred_ses = ses_model.predict(start = Test.index[0], end = Test.index[-1])\n",
    "rmse_ses_model = RMSE(Test.Passengers, pred_ses)\n",
    "rmse_ses_model"
   ]
  },
  {
   "cell_type": "code",
   "execution_count": 25,
   "id": "9869a5a1",
   "metadata": {},
   "outputs": [
    {
     "data": {
      "text/plain": [
       "58.56209934996357"
      ]
     },
     "execution_count": 25,
     "metadata": {},
     "output_type": "execute_result"
    }
   ],
   "source": [
    "# Holt method\n",
    "\n",
    "hw_model = Holt(Train[\"Passengers\"]).fit()\n",
    "pred_hw = hw_model.predict(start = Test.index[0], end = Test.index[-1])\n",
    "rmse_hw_model = RMSE(Test.Passengers, pred_hw)\n",
    "rmse_hw_model"
   ]
  },
  {
   "cell_type": "code",
   "execution_count": 26,
   "id": "42d0ac0f",
   "metadata": {},
   "outputs": [
    {
     "data": {
      "text/plain": [
       "62.517009186392954"
      ]
     },
     "execution_count": 26,
     "metadata": {},
     "output_type": "execute_result"
    }
   ],
   "source": [
    "# Holts winter exponential smoothing with additive seasonality and additive trend\n",
    "\n",
    "hwe_model_add_add = ExponentialSmoothing(Train[\"Passengers\"], seasonal = \"add\", trend = \"add\", seasonal_periods = 4).fit()\n",
    "pred_hwe_add_add = hwe_model_add_add.predict(start = Test.index[0],end = Test.index[-1])\n",
    "rmse_hwe_add_add_model = RMSE(Test.Passengers, pred_hwe_add_add)\n",
    "rmse_hwe_add_add_model"
   ]
  },
  {
   "cell_type": "code",
   "execution_count": 27,
   "id": "d80304a8",
   "metadata": {},
   "outputs": [
    {
     "data": {
      "text/plain": [
       "64.61237956512532"
      ]
     },
     "execution_count": 27,
     "metadata": {},
     "output_type": "execute_result"
    }
   ],
   "source": [
    "# Holts winter exponential smoothing with multiplicative seasonality and additive trend\n",
    "\n",
    "hwe_model_mul_add = ExponentialSmoothing(Train[\"Passengers\"], seasonal = \"mul\", trend = \"add\", seasonal_periods = 4).fit() \n",
    "pred_hwe_mul_add = hwe_model_mul_add.predict(start = Test.index[0], end = Test.index[-1])\n",
    "rmse_hwe_model_mul_add_model = RMSE(Test.Passengers, pred_hwe_mul_add)\n",
    "rmse_hwe_model_mul_add_model"
   ]
  },
  {
   "cell_type": "code",
   "execution_count": 28,
   "id": "acab9de1",
   "metadata": {},
   "outputs": [
    {
     "data": {
      "text/html": [
       "<div>\n",
       "<style scoped>\n",
       "    .dataframe tbody tr th:only-of-type {\n",
       "        vertical-align: middle;\n",
       "    }\n",
       "\n",
       "    .dataframe tbody tr th {\n",
       "        vertical-align: top;\n",
       "    }\n",
       "\n",
       "    .dataframe thead th {\n",
       "        text-align: right;\n",
       "    }\n",
       "</style>\n",
       "<table border=\"1\" class=\"dataframe\">\n",
       "  <thead>\n",
       "    <tr style=\"text-align: right;\">\n",
       "      <th></th>\n",
       "      <th>Passengers</th>\n",
       "    </tr>\n",
       "    <tr>\n",
       "      <th>Month</th>\n",
       "      <th></th>\n",
       "    </tr>\n",
       "  </thead>\n",
       "  <tbody>\n",
       "    <tr>\n",
       "      <th>1995-01-01</th>\n",
       "      <td>112</td>\n",
       "    </tr>\n",
       "    <tr>\n",
       "      <th>1995-02-01</th>\n",
       "      <td>118</td>\n",
       "    </tr>\n",
       "    <tr>\n",
       "      <th>1995-03-01</th>\n",
       "      <td>132</td>\n",
       "    </tr>\n",
       "    <tr>\n",
       "      <th>1995-04-01</th>\n",
       "      <td>129</td>\n",
       "    </tr>\n",
       "    <tr>\n",
       "      <th>1995-05-01</th>\n",
       "      <td>121</td>\n",
       "    </tr>\n",
       "  </tbody>\n",
       "</table>\n",
       "</div>"
      ],
      "text/plain": [
       "            Passengers\n",
       "Month                 \n",
       "1995-01-01         112\n",
       "1995-02-01         118\n",
       "1995-03-01         132\n",
       "1995-04-01         129\n",
       "1995-05-01         121"
      ]
     },
     "execution_count": 28,
     "metadata": {},
     "output_type": "execute_result"
    }
   ],
   "source": [
    "# Model based Forecasting Methods\n",
    "# Data preprocessing for models\n",
    "\n",
    "data1 = data.copy()\n",
    "data1.head()"
   ]
  },
  {
   "cell_type": "code",
   "execution_count": 29,
   "id": "60773a82",
   "metadata": {},
   "outputs": [
    {
     "data": {
      "text/html": [
       "<div>\n",
       "<style scoped>\n",
       "    .dataframe tbody tr th:only-of-type {\n",
       "        vertical-align: middle;\n",
       "    }\n",
       "\n",
       "    .dataframe tbody tr th {\n",
       "        vertical-align: top;\n",
       "    }\n",
       "\n",
       "    .dataframe thead th {\n",
       "        text-align: right;\n",
       "    }\n",
       "</style>\n",
       "<table border=\"1\" class=\"dataframe\">\n",
       "  <thead>\n",
       "    <tr style=\"text-align: right;\">\n",
       "      <th></th>\n",
       "      <th>Passengers</th>\n",
       "      <th>t</th>\n",
       "      <th>t_squared</th>\n",
       "      <th>log_psngr</th>\n",
       "    </tr>\n",
       "    <tr>\n",
       "      <th>Month</th>\n",
       "      <th></th>\n",
       "      <th></th>\n",
       "      <th></th>\n",
       "      <th></th>\n",
       "    </tr>\n",
       "  </thead>\n",
       "  <tbody>\n",
       "    <tr>\n",
       "      <th>1995-01-01</th>\n",
       "      <td>112</td>\n",
       "      <td>1</td>\n",
       "      <td>1</td>\n",
       "      <td>4.718499</td>\n",
       "    </tr>\n",
       "    <tr>\n",
       "      <th>1995-02-01</th>\n",
       "      <td>118</td>\n",
       "      <td>2</td>\n",
       "      <td>4</td>\n",
       "      <td>4.770685</td>\n",
       "    </tr>\n",
       "    <tr>\n",
       "      <th>1995-03-01</th>\n",
       "      <td>132</td>\n",
       "      <td>3</td>\n",
       "      <td>9</td>\n",
       "      <td>4.882802</td>\n",
       "    </tr>\n",
       "    <tr>\n",
       "      <th>1995-04-01</th>\n",
       "      <td>129</td>\n",
       "      <td>4</td>\n",
       "      <td>16</td>\n",
       "      <td>4.859812</td>\n",
       "    </tr>\n",
       "    <tr>\n",
       "      <th>1995-05-01</th>\n",
       "      <td>121</td>\n",
       "      <td>5</td>\n",
       "      <td>25</td>\n",
       "      <td>4.795791</td>\n",
       "    </tr>\n",
       "  </tbody>\n",
       "</table>\n",
       "</div>"
      ],
      "text/plain": [
       "            Passengers  t  t_squared  log_psngr\n",
       "Month                                          \n",
       "1995-01-01         112  1          1   4.718499\n",
       "1995-02-01         118  2          4   4.770685\n",
       "1995-03-01         132  3          9   4.882802\n",
       "1995-04-01         129  4         16   4.859812\n",
       "1995-05-01         121  5         25   4.795791"
      ]
     },
     "execution_count": 29,
     "metadata": {},
     "output_type": "execute_result"
    }
   ],
   "source": [
    "data1[\"t\"] = np.arange(1, 97)\n",
    "data1[\"t_squared\"] = data1[\"t\"]*data1[\"t\"]\n",
    "data1[\"log_psngr\"] = np.log(data1[\"Passengers\"])\n",
    "data1.head()"
   ]
  },
  {
   "cell_type": "code",
   "execution_count": 30,
   "id": "1148e1de",
   "metadata": {},
   "outputs": [],
   "source": [
    "# Splitting data into Train and Test (77/33)\n",
    "\n",
    "Train = data1.head(84)\n",
    "Test = data1.tail(12)"
   ]
  },
  {
   "cell_type": "code",
   "execution_count": 31,
   "id": "844918e4",
   "metadata": {},
   "outputs": [
    {
     "data": {
      "text/plain": [
       "53.19923653480269"
      ]
     },
     "execution_count": 31,
     "metadata": {},
     "output_type": "execute_result"
    }
   ],
   "source": [
    "# Linear Model\n",
    "\n",
    "import statsmodels.formula.api as smf \n",
    "\n",
    "linear_model = smf.ols('Passengers~t', data = Train).fit()\n",
    "pred_linear =  pd.Series(linear_model.predict(pd.DataFrame(Test['t'])))\n",
    "rmse_linear_model = RMSE(Test['Passengers'], pred_linear)\n",
    "rmse_linear_model"
   ]
  },
  {
   "cell_type": "code",
   "execution_count": 32,
   "id": "8fd2b3ef",
   "metadata": {},
   "outputs": [
    {
     "data": {
      "text/plain": [
       "46.057361103156246"
      ]
     },
     "execution_count": 32,
     "metadata": {},
     "output_type": "execute_result"
    }
   ],
   "source": [
    "# Exponential Model\n",
    "\n",
    "Exp = smf.ols('log_psngr~t', data = Train).fit()\n",
    "pred_Exp = pd.Series(Exp.predict(pd.DataFrame(Test['t'])))\n",
    "rmse_Exp_model = RMSE(Test['Passengers'], np.exp(pred_Exp))\n",
    "rmse_Exp_model"
   ]
  },
  {
   "cell_type": "code",
   "execution_count": 33,
   "id": "6a88072f",
   "metadata": {},
   "outputs": [
    {
     "data": {
      "text/plain": [
       "48.05188897933099"
      ]
     },
     "execution_count": 33,
     "metadata": {},
     "output_type": "execute_result"
    }
   ],
   "source": [
    "# Quadratic Model\n",
    "\n",
    "Quad = smf.ols('Passengers~t+t_squared', data = Train).fit()\n",
    "pred_Quad = pd.Series(Quad.predict(Test[[\"t\", \"t_squared\"]]))\n",
    "rmse_Quad_model = RMSE(Test['Passengers'], pred_Quad)\n",
    "rmse_Quad_model"
   ]
  },
  {
   "cell_type": "code",
   "execution_count": 34,
   "id": "e676a670",
   "metadata": {},
   "outputs": [
    {
     "data": {
      "text/html": [
       "<div>\n",
       "<style scoped>\n",
       "    .dataframe tbody tr th:only-of-type {\n",
       "        vertical-align: middle;\n",
       "    }\n",
       "\n",
       "    .dataframe tbody tr th {\n",
       "        vertical-align: top;\n",
       "    }\n",
       "\n",
       "    .dataframe thead th {\n",
       "        text-align: right;\n",
       "    }\n",
       "</style>\n",
       "<table border=\"1\" class=\"dataframe\">\n",
       "  <thead>\n",
       "    <tr style=\"text-align: right;\">\n",
       "      <th></th>\n",
       "      <th>Passengers</th>\n",
       "    </tr>\n",
       "    <tr>\n",
       "      <th>Month</th>\n",
       "      <th></th>\n",
       "    </tr>\n",
       "  </thead>\n",
       "  <tbody>\n",
       "    <tr>\n",
       "      <th>1995-01-01</th>\n",
       "      <td>112</td>\n",
       "    </tr>\n",
       "    <tr>\n",
       "      <th>1995-02-01</th>\n",
       "      <td>118</td>\n",
       "    </tr>\n",
       "    <tr>\n",
       "      <th>1995-03-01</th>\n",
       "      <td>132</td>\n",
       "    </tr>\n",
       "    <tr>\n",
       "      <th>1995-04-01</th>\n",
       "      <td>129</td>\n",
       "    </tr>\n",
       "    <tr>\n",
       "      <th>1995-05-01</th>\n",
       "      <td>121</td>\n",
       "    </tr>\n",
       "    <tr>\n",
       "      <th>...</th>\n",
       "      <td>...</td>\n",
       "    </tr>\n",
       "    <tr>\n",
       "      <th>2002-08-01</th>\n",
       "      <td>405</td>\n",
       "    </tr>\n",
       "    <tr>\n",
       "      <th>2002-09-01</th>\n",
       "      <td>355</td>\n",
       "    </tr>\n",
       "    <tr>\n",
       "      <th>2002-10-01</th>\n",
       "      <td>306</td>\n",
       "    </tr>\n",
       "    <tr>\n",
       "      <th>2002-11-01</th>\n",
       "      <td>271</td>\n",
       "    </tr>\n",
       "    <tr>\n",
       "      <th>2002-12-01</th>\n",
       "      <td>306</td>\n",
       "    </tr>\n",
       "  </tbody>\n",
       "</table>\n",
       "<p>96 rows × 1 columns</p>\n",
       "</div>"
      ],
      "text/plain": [
       "            Passengers\n",
       "Month                 \n",
       "1995-01-01         112\n",
       "1995-02-01         118\n",
       "1995-03-01         132\n",
       "1995-04-01         129\n",
       "1995-05-01         121\n",
       "...                ...\n",
       "2002-08-01         405\n",
       "2002-09-01         355\n",
       "2002-10-01         306\n",
       "2002-11-01         271\n",
       "2002-12-01         306\n",
       "\n",
       "[96 rows x 1 columns]"
      ]
     },
     "execution_count": 34,
     "metadata": {},
     "output_type": "execute_result"
    }
   ],
   "source": [
    "# ARIMA model\n",
    "\n",
    "series = data.copy()\n",
    "series"
   ]
  },
  {
   "cell_type": "code",
   "execution_count": 35,
   "id": "50782cbc",
   "metadata": {},
   "outputs": [
    {
     "name": "stdout",
     "output_type": "stream",
     "text": [
      "Dataset 84, Validation 12\n"
     ]
    }
   ],
   "source": [
    "# Separate out a validation dataset\n",
    "\n",
    "split_point = len(series) - 12\n",
    "dataset, validation = series[0:split_point], series[split_point:]\n",
    "print('Dataset %d, Validation %d' % (len(dataset), len(validation)))\n",
    "dataset.to_csv('dataset.csv', header = False)\n",
    "validation.to_csv('validation.csv', header = False)"
   ]
  },
  {
   "cell_type": "code",
   "execution_count": 36,
   "id": "53d961bd",
   "metadata": {},
   "outputs": [],
   "source": [
    "# Evaluate a persistence model\n",
    "\n",
    "from pandas import read_csv\n",
    "from sklearn.metrics import mean_squared_error\n",
    "from math import sqrt\n",
    "\n",
    "# Load data\n",
    "train = read_csv('dataset.csv', header = None, index_col = 0, parse_dates = True, squeeze = True)\n",
    "\n",
    "# Prepare data\n",
    "\n",
    "X = train.values\n",
    "X = X.astype('float32')\n",
    "train_size = int(len(X) * 0.715)\n",
    "train, test = X[0:train_size], X[train_size:]"
   ]
  },
  {
   "cell_type": "code",
   "execution_count": 37,
   "id": "bc571068",
   "metadata": {},
   "outputs": [
    {
     "name": "stdout",
     "output_type": "stream",
     "text": [
      "(60,)\n",
      "(24,)\n"
     ]
    }
   ],
   "source": [
    "print(train.shape)\n",
    "print(test.shape)"
   ]
  },
  {
   "cell_type": "code",
   "execution_count": 38,
   "id": "6f5e9617",
   "metadata": {},
   "outputs": [
    {
     "name": "stdout",
     "output_type": "stream",
     "text": [
      ">Predicted=201.000, Expected=204.000\n",
      ">Predicted=204.000, Expected=188.000\n",
      ">Predicted=188.000, Expected=235.000\n",
      ">Predicted=235.000, Expected=227.000\n",
      ">Predicted=227.000, Expected=234.000\n",
      ">Predicted=234.000, Expected=264.000\n",
      ">Predicted=264.000, Expected=302.000\n",
      ">Predicted=302.000, Expected=293.000\n",
      ">Predicted=293.000, Expected=259.000\n",
      ">Predicted=259.000, Expected=229.000\n",
      ">Predicted=229.000, Expected=203.000\n",
      ">Predicted=203.000, Expected=229.000\n",
      ">Predicted=229.000, Expected=242.000\n",
      ">Predicted=242.000, Expected=233.000\n",
      ">Predicted=233.000, Expected=267.000\n",
      ">Predicted=267.000, Expected=269.000\n",
      ">Predicted=269.000, Expected=270.000\n",
      ">Predicted=270.000, Expected=315.000\n",
      ">Predicted=315.000, Expected=364.000\n",
      ">Predicted=364.000, Expected=347.000\n",
      ">Predicted=347.000, Expected=312.000\n",
      ">Predicted=312.000, Expected=274.000\n",
      ">Predicted=274.000, Expected=237.000\n",
      ">Predicted=237.000, Expected=278.000\n",
      "RMSE: 29.058\n"
     ]
    }
   ],
   "source": [
    "# Walk-forward validation\n",
    "\n",
    "history = [x for x in train]\n",
    "predictions = list()\n",
    "for i in range(len(test)):\n",
    "    yhat = history[-1]\n",
    "    predictions.append(yhat)\n",
    "\n",
    "# Observation\n",
    "    obs = test[i]\n",
    "    history.append(obs)\n",
    "    print('>Predicted=%.3f, Expected=%.3f' % (yhat, obs))\n",
    "\n",
    "# Report performance\n",
    "rmse = sqrt(mean_squared_error(test, predictions))\n",
    "print('RMSE: %.3f' % rmse)"
   ]
  },
  {
   "cell_type": "code",
   "execution_count": 39,
   "id": "db6b0119",
   "metadata": {},
   "outputs": [],
   "source": [
    "rmse_Persistence_model = 29.058 "
   ]
  },
  {
   "cell_type": "code",
   "execution_count": 41,
   "id": "1b2d1775",
   "metadata": {},
   "outputs": [
    {
     "data": {
      "text/html": [
       "<div>\n",
       "<style scoped>\n",
       "    .dataframe tbody tr th:only-of-type {\n",
       "        vertical-align: middle;\n",
       "    }\n",
       "\n",
       "    .dataframe tbody tr th {\n",
       "        vertical-align: top;\n",
       "    }\n",
       "\n",
       "    .dataframe thead th {\n",
       "        text-align: right;\n",
       "    }\n",
       "</style>\n",
       "<table border=\"1\" class=\"dataframe\">\n",
       "  <thead>\n",
       "    <tr style=\"text-align: right;\">\n",
       "      <th></th>\n",
       "      <th>Passengers</th>\n",
       "    </tr>\n",
       "    <tr>\n",
       "      <th>Month</th>\n",
       "      <th></th>\n",
       "    </tr>\n",
       "  </thead>\n",
       "  <tbody>\n",
       "    <tr>\n",
       "      <th>1995-01-01</th>\n",
       "      <td>112</td>\n",
       "    </tr>\n",
       "    <tr>\n",
       "      <th>1995-02-01</th>\n",
       "      <td>118</td>\n",
       "    </tr>\n",
       "    <tr>\n",
       "      <th>1995-03-01</th>\n",
       "      <td>132</td>\n",
       "    </tr>\n",
       "    <tr>\n",
       "      <th>1995-04-01</th>\n",
       "      <td>129</td>\n",
       "    </tr>\n",
       "    <tr>\n",
       "      <th>1995-05-01</th>\n",
       "      <td>121</td>\n",
       "    </tr>\n",
       "    <tr>\n",
       "      <th>...</th>\n",
       "      <td>...</td>\n",
       "    </tr>\n",
       "    <tr>\n",
       "      <th>2002-08-01</th>\n",
       "      <td>405</td>\n",
       "    </tr>\n",
       "    <tr>\n",
       "      <th>2002-09-01</th>\n",
       "      <td>355</td>\n",
       "    </tr>\n",
       "    <tr>\n",
       "      <th>2002-10-01</th>\n",
       "      <td>306</td>\n",
       "    </tr>\n",
       "    <tr>\n",
       "      <th>2002-11-01</th>\n",
       "      <td>271</td>\n",
       "    </tr>\n",
       "    <tr>\n",
       "      <th>2002-12-01</th>\n",
       "      <td>306</td>\n",
       "    </tr>\n",
       "  </tbody>\n",
       "</table>\n",
       "<p>96 rows × 1 columns</p>\n",
       "</div>"
      ],
      "text/plain": [
       "            Passengers\n",
       "Month                 \n",
       "1995-01-01         112\n",
       "1995-02-01         118\n",
       "1995-03-01         132\n",
       "1995-04-01         129\n",
       "1995-05-01         121\n",
       "...                ...\n",
       "2002-08-01         405\n",
       "2002-09-01         355\n",
       "2002-10-01         306\n",
       "2002-11-01         271\n",
       "2002-12-01         306\n",
       "\n",
       "[96 rows x 1 columns]"
      ]
     },
     "execution_count": 41,
     "metadata": {},
     "output_type": "execute_result"
    }
   ],
   "source": [
    "series = pd.read_excel('Airlines+Data.xlsx', header = 0, index_col = 0, parse_dates = True)\n",
    "series"
   ]
  },
  {
   "cell_type": "code",
   "execution_count": 42,
   "id": "b78cde47",
   "metadata": {},
   "outputs": [
    {
     "name": "stdout",
     "output_type": "stream",
     "text": [
      "Dataset 84, Validation 12\n"
     ]
    }
   ],
   "source": [
    "# Separate out a validation dataset\n",
    "\n",
    "split_point = len(series) - 12\n",
    "dataset, validation = series[0:split_point], series[split_point:]\n",
    "print('Dataset %d, Validation %d' % (len(dataset), len(validation)))\n",
    "dataset.to_csv('dataset.csv', header = False)\n",
    "validation.to_csv('validation.csv', header = False)"
   ]
  },
  {
   "cell_type": "code",
   "execution_count": 43,
   "id": "21d2623e",
   "metadata": {},
   "outputs": [],
   "source": [
    "# Grid search ARIMA parameters for a time series\n",
    "\n",
    "import warnings\n",
    "from pandas import read_csv\n",
    "from statsmodels.tsa.arima_model import ARIMA\n",
    "from sklearn.metrics import mean_squared_error\n",
    "from math import sqrt\n",
    "\n",
    "# Evaluate an ARIMA model for a given order (p,d,q) and return RMSE\n",
    "\n",
    "def evaluate_arima_model(X, arima_order):\n",
    "\n",
    "# Prepare training dataset\n",
    "    X = X.astype('float32')\n",
    "    train_size = int(len(X) * 0.715)\n",
    "    train, test = X[0:train_size], X[train_size:]\n",
    "    history = [x for x in train]\n",
    "    \n",
    "# Make predictions\n",
    "\n",
    "    predictions = list()\n",
    "    for t in range(len(test)):\n",
    "        model = ARIMA(history, order = arima_order)\n",
    "        \n",
    "# model_fit = model.fit(disp = 0)\n",
    "\n",
    "        model_fit = model.fit(disp = 0)\n",
    "        yhat = model_fit.forecast()[0]\n",
    "        predictions.append(yhat)\n",
    "        history.append(test[t])\n",
    "        \n",
    "# Calculate out of sample error\n",
    "\n",
    "    rmse = sqrt(mean_squared_error(test, predictions))\n",
    "    return rmse"
   ]
  },
  {
   "cell_type": "code",
   "execution_count": 44,
   "id": "c4334c75",
   "metadata": {},
   "outputs": [],
   "source": [
    "# Evaluate combinations of p, d and q values for an ARIMA model\n",
    "\n",
    "def evaluate_models(dataset, p_values, d_values, q_values):\n",
    "    dataset = dataset.astype('float32')\n",
    "    best_score, best_cfg = float('inf'), None\n",
    "    for p in p_values:\n",
    "        for d in d_values:\n",
    "            for q in q_values:\n",
    "                order = (p,d,q)\n",
    "                try:\n",
    "                    rmse = evaluate_arima_model(train, order)\n",
    "                    if rmse < best_score:\n",
    "                        best_score, best_cfg = rmse, order\n",
    "                    print('ARIMA%s RMSE=%.3f' % (order, rmse))\n",
    "                except:\n",
    "                    continue\n",
    "    print('Best ARIMA%s RMSE=%.3f' % (best_cfg, best_score))"
   ]
  },
  {
   "cell_type": "code",
   "execution_count": 45,
   "id": "3ddde5f1",
   "metadata": {},
   "outputs": [
    {
     "name": "stdout",
     "output_type": "stream",
     "text": [
      "ARIMA(0, 0, 0) RMSE=87.974\n",
      "ARIMA(0, 0, 1) RMSE=49.107\n",
      "ARIMA(0, 1, 0) RMSE=29.116\n",
      "ARIMA(0, 1, 1) RMSE=28.328\n",
      "ARIMA(0, 1, 2) RMSE=30.666\n",
      "ARIMA(0, 1, 3) RMSE=26.562\n",
      "ARIMA(0, 1, 4) RMSE=24.650\n",
      "ARIMA(0, 2, 0) RMSE=35.791\n",
      "ARIMA(0, 2, 1) RMSE=29.844\n",
      "ARIMA(0, 2, 2) RMSE=28.876\n",
      "ARIMA(0, 2, 3) RMSE=29.171\n",
      "ARIMA(0, 2, 4) RMSE=27.481\n",
      "ARIMA(1, 0, 0) RMSE=29.596\n",
      "ARIMA(1, 0, 1) RMSE=28.465\n",
      "ARIMA(1, 0, 2) RMSE=75.901\n",
      "ARIMA(1, 0, 3) RMSE=493.327\n",
      "ARIMA(1, 1, 0) RMSE=28.830\n",
      "ARIMA(1, 1, 1) RMSE=27.792\n",
      "ARIMA(1, 1, 2) RMSE=25.304\n",
      "ARIMA(1, 2, 0) RMSE=35.272\n",
      "ARIMA(2, 0, 0) RMSE=29.093\n",
      "ARIMA(2, 1, 0) RMSE=28.255\n",
      "ARIMA(2, 1, 1) RMSE=25.237\n",
      "ARIMA(2, 2, 0) RMSE=33.534\n",
      "ARIMA(3, 0, 0) RMSE=28.707\n",
      "ARIMA(3, 0, 1) RMSE=28.653\n",
      "ARIMA(3, 1, 0) RMSE=28.832\n",
      "ARIMA(3, 1, 1) RMSE=25.625\n",
      "ARIMA(3, 2, 0) RMSE=34.396\n",
      "ARIMA(4, 0, 0) RMSE=29.279\n",
      "ARIMA(4, 0, 2) RMSE=31.094\n",
      "ARIMA(4, 1, 0) RMSE=27.755\n",
      "ARIMA(4, 1, 1) RMSE=26.573\n",
      "ARIMA(4, 2, 0) RMSE=32.502\n",
      "ARIMA(4, 2, 1) RMSE=28.363\n",
      "Best ARIMA(0, 1, 4) RMSE=24.650\n"
     ]
    }
   ],
   "source": [
    "# Load dataset\n",
    "\n",
    "train = pd.read_csv('dataset.csv', header = None, index_col = 0, parse_dates = True, squeeze = True)\n",
    "\n",
    "# evaluate parameters\n",
    "\n",
    "p_values = range(0, 5)\n",
    "d_values = range(0, 5)\n",
    "q_values = range(0, 5)\n",
    "\n",
    "warnings.filterwarnings(\"ignore\")\n",
    "\n",
    "evaluate_models(train.values, p_values, d_values, q_values)"
   ]
  },
  {
   "cell_type": "code",
   "execution_count": 46,
   "id": "34dc661a",
   "metadata": {},
   "outputs": [],
   "source": [
    "rmse_ARIMA_model = 24.650"
   ]
  },
  {
   "cell_type": "code",
   "execution_count": 47,
   "id": "5d7a04f1",
   "metadata": {},
   "outputs": [
    {
     "data": {
      "image/png": "[encoded data removed]",
      "text/plain": [
       "<Figure size 432x288 with 1 Axes>"
      ]
     },
     "execution_count": 47,
     "metadata": {},
     "output_type": "execute_result"
    },
    {
     "data": {
      "image/png": "[encoded data removed]",
      "text/plain": [
       "<Figure size 432x288 with 1 Axes>"
      ]
     },
     "metadata": {
      "needs_background": "light"
     },
     "output_type": "display_data"
    }
   ],
   "source": [
    "# Build Model based on the optimized values\n",
    "# Load data\n",
    "\n",
    "train = pd.read_csv('dataset.csv', header = 0, index_col = 0, parse_dates = True)\n",
    "\n",
    "# Prepare data\n",
    "\n",
    "X = train.values\n",
    "X = X.astype('float32')\n",
    "\n",
    "# Fit model\n",
    "\n",
    "model = ARIMA(X, order = (3, 1, 0))\n",
    "model_fit = model.fit()\n",
    "forecast = model_fit.forecast(steps = 12)[0]\n",
    "model_fit.plot_predict(1, 96)"
   ]
  },
  {
   "cell_type": "code",
   "execution_count": 48,
   "id": "bcf56ffc",
   "metadata": {},
   "outputs": [
    {
     "data": {
      "text/plain": [
       "51.13515730096445"
      ]
     },
     "execution_count": 48,
     "metadata": {},
     "output_type": "execute_result"
    }
   ],
   "source": [
    "#Error on the test data\n",
    "\n",
    "val = pd.read_csv('validation.csv', header = None)\n",
    "rmse = sqrt(mean_squared_error(val[1], forecast))\n",
    "rmse"
   ]
  },
  {
   "cell_type": "code",
   "execution_count": 49,
   "id": "4bc0fc93",
   "metadata": {},
   "outputs": [],
   "source": [
    "# Combine train and test data and build final model\n",
    "# Fit model\n",
    "\n",
    "data = pd.read_excel('Airlines+Data.xlsx', header = 0, index_col = 0, parse_dates = True)\n",
    "\n",
    "# Prepare data\n",
    "\n",
    "X = train.values\n",
    "X = X.astype('float32')"
   ]
  },
  {
   "cell_type": "code",
   "execution_count": 50,
   "id": "9dcc2b24",
   "metadata": {},
   "outputs": [
    {
     "data": {
      "image/png": "[encoded data removed]",
      "text/plain": [
       "<Figure size 432x288 with 1 Axes>"
      ]
     },
     "execution_count": 50,
     "metadata": {},
     "output_type": "execute_result"
    },
    {
     "data": {
      "image/png": "[encoded data removed]",
      "text/plain": [
       "<Figure size 432x288 with 1 Axes>"
      ]
     },
     "metadata": {
      "needs_background": "light"
     },
     "output_type": "display_data"
    }
   ],
   "source": [
    "model = ARIMA(X, order = (0, 1, 4))\n",
    "model_fit = model.fit()\n",
    "forecast = model_fit.forecast(steps = 12)[0]\n",
    "model_fit.plot_predict(1, 97)"
   ]
  },
  {
   "cell_type": "code",
   "execution_count": 51,
   "id": "6d2a2f0d",
   "metadata": {},
   "outputs": [
    {
     "data": {
      "text/plain": [
       "array([297.29504686, 300.66281914, 305.18875163, 296.16873356,\n",
       "       298.33910981, 300.50948606, 302.67986231, 304.85023856,\n",
       "       307.02061482, 309.19099107, 311.36136732, 313.53174357])"
      ]
     },
     "execution_count": 51,
     "metadata": {},
     "output_type": "execute_result"
    }
   ],
   "source": [
    "forecast"
   ]
  },
  {
   "cell_type": "code",
   "execution_count": 52,
   "id": "1af8277e",
   "metadata": {},
   "outputs": [],
   "source": [
    "list = [['Simple Exponential Method', rmse_ses_model], ['Holt method', rmse_hw_model],\n",
    "          ['HW exp smoothing add', rmse_hwe_add_add_model], ['HW exp smoothing mult', rmse_hwe_model_mul_add_model],\n",
    "          ['Linear Mode',rmse_linear_model], ['Exp model', rmse_Exp_model], ['Quad model', rmse_Quad_model],\n",
    "          ['Persistence/ Base model', rmse_Persistence_model], ['ARIMA Model', rmse_ARIMA_model]]"
   ]
  },
  {
   "cell_type": "code",
   "execution_count": 53,
   "id": "9716eff4",
   "metadata": {},
   "outputs": [
    {
     "data": {
      "text/html": [
       "<div>\n",
       "<style scoped>\n",
       "    .dataframe tbody tr th:only-of-type {\n",
       "        vertical-align: middle;\n",
       "    }\n",
       "\n",
       "    .dataframe tbody tr th {\n",
       "        vertical-align: top;\n",
       "    }\n",
       "\n",
       "    .dataframe thead th {\n",
       "        text-align: right;\n",
       "    }\n",
       "</style>\n",
       "<table border=\"1\" class=\"dataframe\">\n",
       "  <thead>\n",
       "    <tr style=\"text-align: right;\">\n",
       "      <th></th>\n",
       "      <th>Model</th>\n",
       "      <th>RMSE_Value</th>\n",
       "    </tr>\n",
       "  </thead>\n",
       "  <tbody>\n",
       "    <tr>\n",
       "      <th>0</th>\n",
       "      <td>Simple Exponential Method</td>\n",
       "      <td>68.006740</td>\n",
       "    </tr>\n",
       "    <tr>\n",
       "      <th>1</th>\n",
       "      <td>Holt method</td>\n",
       "      <td>58.562099</td>\n",
       "    </tr>\n",
       "    <tr>\n",
       "      <th>2</th>\n",
       "      <td>HW exp smoothing add</td>\n",
       "      <td>62.517009</td>\n",
       "    </tr>\n",
       "    <tr>\n",
       "      <th>3</th>\n",
       "      <td>HW exp smoothing mult</td>\n",
       "      <td>64.612380</td>\n",
       "    </tr>\n",
       "    <tr>\n",
       "      <th>4</th>\n",
       "      <td>Linear Mode</td>\n",
       "      <td>53.199237</td>\n",
       "    </tr>\n",
       "    <tr>\n",
       "      <th>5</th>\n",
       "      <td>Exp model</td>\n",
       "      <td>46.057361</td>\n",
       "    </tr>\n",
       "    <tr>\n",
       "      <th>6</th>\n",
       "      <td>Quad model</td>\n",
       "      <td>48.051889</td>\n",
       "    </tr>\n",
       "    <tr>\n",
       "      <th>7</th>\n",
       "      <td>Persistence/ Base model</td>\n",
       "      <td>29.058000</td>\n",
       "    </tr>\n",
       "    <tr>\n",
       "      <th>8</th>\n",
       "      <td>ARIMA Model</td>\n",
       "      <td>24.650000</td>\n",
       "    </tr>\n",
       "  </tbody>\n",
       "</table>\n",
       "</div>"
      ],
      "text/plain": [
       "                       Model  RMSE_Value\n",
       "0  Simple Exponential Method   68.006740\n",
       "1                Holt method   58.562099\n",
       "2       HW exp smoothing add   62.517009\n",
       "3      HW exp smoothing mult   64.612380\n",
       "4                Linear Mode   53.199237\n",
       "5                  Exp model   46.057361\n",
       "6                 Quad model   48.051889\n",
       "7    Persistence/ Base model   29.058000\n",
       "8                ARIMA Model   24.650000"
      ]
     },
     "execution_count": 53,
     "metadata": {},
     "output_type": "execute_result"
    }
   ],
   "source": [
    "df = pd.DataFrame(list, columns = ['Model', 'RMSE_Value']) \n",
    "df"
   ]
  },
  {
   "cell_type": "code",
   "execution_count": null,
   "id": "7e5d8f6d",
   "metadata": {},
   "outputs": [],
   "source": []
  }
 ],
 "metadata": {
  "kernelspec": {
   "display_name": "Python 3 (ipykernel)",
   "language": "python",
   "name": "python3"
  },
  "language_info": {
   "codemirror_mode": {
    "name": "ipython",
    "version": 3
   },
   "file_extension": ".py",
   "mimetype": "text/x-python",
   "name": "python",
   "nbconvert_exporter": "python",
   "pygments_lexer": "ipython3",
   "version": "3.9.7"
  }
 },
 "nbformat": 4,
 "nbformat_minor": 5
}
